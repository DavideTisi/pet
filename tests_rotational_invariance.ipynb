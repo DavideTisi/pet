{
 "cells": [
  {
   "cell_type": "code",
   "execution_count": 1,
   "id": "582bbb81",
   "metadata": {},
   "outputs": [],
   "source": [
    "from utilities import get_all_species, get_compositional_features\n",
    "import os\n",
    "\n",
    "import torch\n",
    "import ase.io\n",
    "import numpy as np\n",
    "from multiprocessing import cpu_count\n",
    "from pathos.multiprocessing import ProcessingPool as Pool\n",
    "from tqdm import tqdm\n",
    "import torch_geometric\n",
    "from torch_geometric.data import Data\n",
    "from torch_geometric.loader import DataLoader, DataListLoader\n",
    "from torch import nn\n",
    "import torch.nn.functional as F\n",
    "from sklearn.linear_model import Ridge\n",
    "from utilities import ModelKeeper\n",
    "import time\n",
    "from scipy.spatial.transform import Rotation\n",
    "from torch.optim.lr_scheduler import LambdaLR\n",
    "import sys\n",
    "import copy\n",
    "import inspect\n",
    "import yaml\n",
    "from torch_geometric.nn import DataParallel\n",
    "\n",
    "from molecule import Molecule, batch_to_dict\n",
    "from hypers import Hypers\n",
    "from pet import PET\n",
    "from utilities import FullLogger\n",
    "from utilities import get_rmse, get_mae, get_relative_rmse, get_loss\n",
    "from analysis import get_structural_batch_size, convert_atomic_throughput"
   ]
  },
  {
   "cell_type": "code",
   "execution_count": 2,
   "id": "159138f1",
   "metadata": {},
   "outputs": [],
   "source": [
    "EPSILON = 1e-10\n",
    "STRUCTURES_PATH = '../datasets/coll/coll_v1.2_AE_test.xyz'\n",
    "DEFAULT_HYPERS_PATH = 'default_hypers.yaml'\n",
    "SP_HYPERS_PATH = 'sp_default_hypers.yaml'\n",
    "NUM_MOLECULES = 4"
   ]
  },
  {
   "cell_type": "code",
   "execution_count": 3,
   "id": "9d953604",
   "metadata": {},
   "outputs": [],
   "source": [
    "hypers = Hypers()\n",
    "hypers.load_from_file(DEFAULT_HYPERS_PATH)\n",
    "\n",
    "hypers_only_length = copy.deepcopy(hypers)\n",
    "hypers_only_length.USE_ONLY_LENGTH = True"
   ]
  },
  {
   "cell_type": "code",
   "execution_count": 4,
   "id": "9eaed3b7",
   "metadata": {},
   "outputs": [
    {
     "name": "stderr",
     "output_type": "stream",
     "text": [
      "100%|████████████████████████████████████████████| 4/4 [00:00<00:00, 842.02it/s]\n",
      "100%|███████████████████████████████████████████| 4/4 [00:00<00:00, 1307.04it/s]\n"
     ]
    }
   ],
   "source": [
    "structures = ase.io.read(STRUCTURES_PATH, index = f':{NUM_MOLECULES}')\n",
    "all_species = get_all_species(structures)\n",
    "molecules = [Molecule(structure, hypers.R_CUT, hypers.USE_ADDITIONAL_SCALAR_ATTRIBUTES, hypers.USE_FORCES) for structure in tqdm(structures)]\n",
    "\n",
    "max_nums = [molecule.get_max_num() for molecule in molecules]\n",
    "max_num = np.max(max_nums)\n",
    "graphs = [molecule.get_graph(max_num, all_species) for molecule in tqdm(molecules)]\n",
    "loader = DataLoader(graphs, batch_size=10, shuffle=False)"
   ]
  },
  {
   "cell_type": "code",
   "execution_count": 5,
   "id": "b9205c89",
   "metadata": {},
   "outputs": [],
   "source": [
    "def get_model(hypers):\n",
    "    add_tokens = []\n",
    "    for _ in range(hypers.N_GNN_LAYERS - 1):\n",
    "        add_tokens.append(hypers.ADD_TOKEN_FIRST)\n",
    "    add_tokens.append(hypers.ADD_TOKEN_SECOND)\n",
    "\n",
    "    model = PET(hypers, hypers.TRANSFORMER_D_MODEL, hypers.TRANSFORMER_N_HEAD,\n",
    "                           hypers.TRANSFORMER_DIM_FEEDFORWARD, hypers.N_TRANS_LAYERS, \n",
    "                           0.0, len(all_species), \n",
    "                           hypers.N_GNN_LAYERS, hypers.HEAD_N_NEURONS, hypers.TRANSFORMERS_CENTRAL_SPECIFIC, hypers.HEADS_CENTRAL_SPECIFIC, \n",
    "                           add_tokens).cuda()\n",
    "\n",
    "    model.augmentation = False\n",
    "    return model\n",
    "\n",
    "model = get_model(hypers)\n",
    "model_only_length = get_model(hypers_only_length)"
   ]
  },
  {
   "cell_type": "code",
   "execution_count": 6,
   "id": "b8672a54",
   "metadata": {},
   "outputs": [],
   "source": [
    "def compute_for_random_rotation(model, is_sp = False):\n",
    "    structures = ase.io.read(STRUCTURES_PATH, index = f':{NUM_MOLECULES}')\n",
    "    \n",
    "    rotation = Rotation.random(1).as_matrix()[0]\n",
    "    for struc in structures:\n",
    "        struc.positions = np.dot(struc.positions, rotation)\n",
    "    \n",
    "    all_species = get_all_species(structures)\n",
    "    molecules = [Molecule(structure, hypers.R_CUT, hypers.USE_ADDITIONAL_SCALAR_ATTRIBUTES, hypers.USE_FORCES) for structure in structures]\n",
    "\n",
    "    max_nums = [molecule.get_max_num() for molecule in molecules]\n",
    "    max_num = np.max(max_nums)\n",
    "    graphs = [molecule.get_graph(max_num, all_species) for molecule in molecules]\n",
    "    loader = DataLoader(graphs, batch_size=1, shuffle=False)\n",
    "    \n",
    "    torch.set_printoptions(precision=10)\n",
    "    result = []\n",
    "    for batch in loader:\n",
    "        batch.cuda()\n",
    "        if is_sp:\n",
    "            _, _, _, predictions_energies, _, _, _ = model(batch)\n",
    "        else:\n",
    "            predictions_energies, _, _, _ = model(batch)\n",
    "        result.append(predictions_energies)\n",
    "    result = torch.cat(result, dim = 0)\n",
    "    print(result)\n",
    "    \n",
    "    "
   ]
  },
  {
   "cell_type": "markdown",
   "id": "b8cc9450",
   "metadata": {},
   "source": [
    "# Normal model is not invariant with respect to rotations:"
   ]
  },
  {
   "cell_type": "code",
   "execution_count": 7,
   "id": "17daebe3",
   "metadata": {},
   "outputs": [
    {
     "name": "stdout",
     "output_type": "stream",
     "text": [
      "tensor([ 9.2439546585,  3.6752846241, 23.5622901917,  5.5260915756],\n",
      "       device='cuda:0', grad_fn=<CatBackward0>)\n",
      "tensor([ 9.7120895386,  3.9531302452, 25.6354007721,  5.7538542747],\n",
      "       device='cuda:0', grad_fn=<CatBackward0>)\n",
      "tensor([ 9.2407379150,  3.8272337914, 24.4651470184,  5.4261684418],\n",
      "       device='cuda:0', grad_fn=<CatBackward0>)\n",
      "tensor([ 9.1754608154,  3.5353443623, 23.8813972473,  5.6925954819],\n",
      "       device='cuda:0', grad_fn=<CatBackward0>)\n",
      "tensor([ 9.5363912582,  3.5306556225, 23.2859497070,  5.7522954941],\n",
      "       device='cuda:0', grad_fn=<CatBackward0>)\n",
      "tensor([ 8.8836431503,  3.6675195694, 24.1495990753,  5.2963962555],\n",
      "       device='cuda:0', grad_fn=<CatBackward0>)\n",
      "tensor([ 9.0820541382,  3.7650759220, 25.1997337341,  5.3429045677],\n",
      "       device='cuda:0', grad_fn=<CatBackward0>)\n",
      "tensor([ 9.3361873627,  3.6924219131, 24.1268119812,  5.5006227493],\n",
      "       device='cuda:0', grad_fn=<CatBackward0>)\n",
      "tensor([10.0773077011,  3.6509943008, 25.5265960693,  6.2444906235],\n",
      "       device='cuda:0', grad_fn=<CatBackward0>)\n",
      "tensor([ 9.6958093643,  3.8347411156, 25.1699943542,  5.3929824829],\n",
      "       device='cuda:0', grad_fn=<CatBackward0>)\n"
     ]
    }
   ],
   "source": [
    "        \n",
    "for _ in range(10):\n",
    "    compute_for_random_rotation(model)"
   ]
  },
  {
   "cell_type": "markdown",
   "id": "34354c95",
   "metadata": {},
   "source": [
    "# Only length model is invariant with respect to rotations"
   ]
  },
  {
   "cell_type": "code",
   "execution_count": 8,
   "id": "1e8cdc8d",
   "metadata": {},
   "outputs": [
    {
     "name": "stdout",
     "output_type": "stream",
     "text": [
      "tensor([15.1958856583,  5.3312802315, 38.9591522217,  8.5581979752],\n",
      "       device='cuda:0', grad_fn=<CatBackward0>)\n",
      "tensor([15.1958847046,  5.3312802315, 38.9591522217,  8.5581979752],\n",
      "       device='cuda:0', grad_fn=<CatBackward0>)\n",
      "tensor([15.1958856583,  5.3312802315, 38.9591522217,  8.5581979752],\n",
      "       device='cuda:0', grad_fn=<CatBackward0>)\n",
      "tensor([15.1958856583,  5.3312802315, 38.9591484070,  8.5581979752],\n",
      "       device='cuda:0', grad_fn=<CatBackward0>)\n",
      "tensor([15.1958847046,  5.3312802315, 38.9591522217,  8.5581979752],\n",
      "       device='cuda:0', grad_fn=<CatBackward0>)\n",
      "tensor([15.1958847046,  5.3312802315, 38.9591484070,  8.5581989288],\n",
      "       device='cuda:0', grad_fn=<CatBackward0>)\n",
      "tensor([15.1958856583,  5.3312797546, 38.9591484070,  8.5581979752],\n",
      "       device='cuda:0', grad_fn=<CatBackward0>)\n",
      "tensor([15.1958847046,  5.3312807083, 38.9591484070,  8.5581979752],\n",
      "       device='cuda:0', grad_fn=<CatBackward0>)\n",
      "tensor([15.1958856583,  5.3312807083, 38.9591484070,  8.5581979752],\n",
      "       device='cuda:0', grad_fn=<CatBackward0>)\n",
      "tensor([15.1958847046,  5.3312802315, 38.9591484070,  8.5581979752],\n",
      "       device='cuda:0', grad_fn=<CatBackward0>)\n"
     ]
    }
   ],
   "source": [
    "for _ in range(10):\n",
    "    compute_for_random_rotation(model_only_length)"
   ]
  },
  {
   "cell_type": "markdown",
   "id": "57b14d07",
   "metadata": {},
   "source": [
    "# Symmetrization protocol"
   ]
  },
  {
   "cell_type": "code",
   "execution_count": 9,
   "id": "d1828049",
   "metadata": {},
   "outputs": [
    {
     "name": "stderr",
     "output_type": "stream",
     "text": [
      "/home/sergey/final_reproduce/pet_latest/sp_frames_calculator.py:126: ComplexWarning: Casting complex values to real discards the imaginary part\n",
      "  self.lambert_constant = torch.tensor(float(lambertw(np.exp(-1.0))))\n"
     ]
    }
   ],
   "source": [
    "from sp_frames_calculator import SPFramesCalculator\n",
    "from pet_sp import PETSP\n",
    "sp_hypers = Hypers()\n",
    "sp_hypers.load_from_file(SP_HYPERS_PATH)\n",
    "sp_frames_calculator = SPFramesCalculator(sp_hypers)"
   ]
  },
  {
   "cell_type": "markdown",
   "id": "b799b0d3",
   "metadata": {},
   "source": [
    "# symmetrization of normal model"
   ]
  },
  {
   "cell_type": "code",
   "execution_count": 10,
   "id": "7eb41090",
   "metadata": {},
   "outputs": [
    {
     "name": "stdout",
     "output_type": "stream",
     "text": [
      "tensor([ 9.5778741837,  3.8056445122, 24.8481578827,  5.5652675629],\n",
      "       device='cuda:0', grad_fn=<CatBackward0>)\n",
      "tensor([ 9.5778713226,  3.8056442738, 24.8481521606,  5.5652666092],\n",
      "       device='cuda:0', grad_fn=<CatBackward0>)\n",
      "tensor([ 9.5778722763,  3.8056440353, 24.8481521606,  5.5652675629],\n",
      "       device='cuda:0', grad_fn=<CatBackward0>)\n",
      "tensor([ 9.5778722763,  3.8056437969, 24.8481578827,  5.5652680397],\n",
      "       device='cuda:0', grad_fn=<CatBackward0>)\n",
      "tensor([ 9.5778722763,  3.8056442738, 24.8481502533,  5.5652670860],\n",
      "       device='cuda:0', grad_fn=<CatBackward0>)\n",
      "tensor([ 9.5778722763,  3.8056445122, 24.8481559753,  5.5652666092],\n",
      "       device='cuda:0', grad_fn=<CatBackward0>)\n",
      "tensor([ 9.5778722763,  3.8056437969, 24.8481540680,  5.5652675629],\n",
      "       device='cuda:0', grad_fn=<CatBackward0>)\n",
      "tensor([ 9.5778722763,  3.8056442738, 24.8481521606,  5.5652670860],\n",
      "       device='cuda:0', grad_fn=<CatBackward0>)\n",
      "tensor([ 9.5778722763,  3.8056437969, 24.8481540680,  5.5652675629],\n",
      "       device='cuda:0', grad_fn=<CatBackward0>)\n",
      "tensor([ 9.5778713226,  3.8056440353, 24.8481540680,  5.5652685165],\n",
      "       device='cuda:0', grad_fn=<CatBackward0>)\n"
     ]
    }
   ],
   "source": [
    "model_sp = PETSP(model, None,\n",
    "                 100.0, hypers.USE_ENERGIES, hypers.USE_FORCES,\n",
    "                 sp_frames_calculator, 50,\n",
    "                 epsilon = EPSILON).cuda()\n",
    "\n",
    "for _ in range(10):\n",
    "    compute_for_random_rotation(model_sp, is_sp = True)"
   ]
  },
  {
   "cell_type": "markdown",
   "id": "9368a732",
   "metadata": {},
   "source": [
    "# model combined of normal one and only length as auxiliary"
   ]
  },
  {
   "cell_type": "code",
   "execution_count": 11,
   "id": "0cd36c8a",
   "metadata": {},
   "outputs": [
    {
     "name": "stdout",
     "output_type": "stream",
     "text": [
      "tensor([ 9.5778713226,  3.8056442738, 24.8481559753,  5.5652680397],\n",
      "       device='cuda:0', grad_fn=<CatBackward0>)\n",
      "tensor([ 9.5778713226,  3.8056440353, 24.8481407166,  5.5652675629],\n",
      "       device='cuda:0', grad_fn=<CatBackward0>)\n",
      "tensor([ 9.5778722763,  3.8056445122, 24.8481502533,  5.5652680397],\n",
      "       device='cuda:0', grad_fn=<CatBackward0>)\n",
      "tensor([ 9.5778732300,  3.8056442738, 24.8481540680,  5.5652675629],\n",
      "       device='cuda:0', grad_fn=<CatBackward0>)\n",
      "tensor([ 9.5778732300,  3.8056442738, 24.8481502533,  5.5652680397],\n",
      "       device='cuda:0', grad_fn=<CatBackward0>)\n",
      "tensor([ 9.5778722763,  3.8056445122, 24.8481559753,  5.5652694702],\n",
      "       device='cuda:0', grad_fn=<CatBackward0>)\n",
      "tensor([ 9.5778713226,  3.8056437969, 24.8481616974,  5.5652656555],\n",
      "       device='cuda:0', grad_fn=<CatBackward0>)\n",
      "tensor([ 9.5778713226,  3.8056447506, 24.8481559753,  5.5652670860],\n",
      "       device='cuda:0', grad_fn=<CatBackward0>)\n",
      "tensor([ 9.5778722763,  3.8056435585, 24.8481464386,  5.5652675629],\n",
      "       device='cuda:0', grad_fn=<CatBackward0>)\n",
      "tensor([ 9.5778732300,  3.8056435585, 24.8481597900,  5.5652680397],\n",
      "       device='cuda:0', grad_fn=<CatBackward0>)\n"
     ]
    }
   ],
   "source": [
    "model_sp = PETSP(model, model_only_length,\n",
    "                 100.0, hypers.USE_ENERGIES, hypers.USE_FORCES,\n",
    "                 sp_frames_calculator, 50,\n",
    "                 epsilon = EPSILON).cuda()\n",
    "\n",
    "for _ in range(10):\n",
    "    compute_for_random_rotation(model_sp, is_sp = True)"
   ]
  },
  {
   "cell_type": "code",
   "execution_count": null,
   "id": "10e662cb",
   "metadata": {},
   "outputs": [],
   "source": []
  },
  {
   "cell_type": "code",
   "execution_count": null,
   "id": "94c94d6f",
   "metadata": {},
   "outputs": [],
   "source": []
  },
  {
   "cell_type": "code",
   "execution_count": null,
   "id": "b3aae3c4",
   "metadata": {},
   "outputs": [],
   "source": []
  }
 ],
 "metadata": {
  "kernelspec": {
   "display_name": "Python 3 (ipykernel)",
   "language": "python",
   "name": "python3"
  },
  "language_info": {
   "codemirror_mode": {
    "name": "ipython",
    "version": 3
   },
   "file_extension": ".py",
   "mimetype": "text/x-python",
   "name": "python",
   "nbconvert_exporter": "python",
   "pygments_lexer": "ipython3",
   "version": "3.9.13"
  }
 },
 "nbformat": 4,
 "nbformat_minor": 5
}
