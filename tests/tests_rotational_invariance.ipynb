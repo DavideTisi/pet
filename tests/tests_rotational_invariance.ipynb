{
 "cells": [
  {
   "cell_type": "code",
   "execution_count": 1,
   "id": "582bbb81",
   "metadata": {},
   "outputs": [],
   "source": [
    "from utilities import get_all_species, get_compositional_features\n",
    "import os\n",
    "\n",
    "import torch\n",
    "import ase.io\n",
    "import numpy as np\n",
    "from multiprocessing import cpu_count\n",
    "from pathos.multiprocessing import ProcessingPool as Pool\n",
    "from tqdm import tqdm\n",
    "import torch_geometric\n",
    "from torch_geometric.data import Data\n",
    "from torch_geometric.loader import DataLoader, DataListLoader\n",
    "from torch import nn\n",
    "import torch.nn.functional as F\n",
    "from sklearn.linear_model import Ridge\n",
    "from utilities import ModelKeeper\n",
    "import time\n",
    "from scipy.spatial.transform import Rotation\n",
    "from torch.optim.lr_scheduler import LambdaLR\n",
    "import sys\n",
    "import copy\n",
    "import inspect\n",
    "import yaml\n",
    "from torch_geometric.nn import DataParallel\n",
    "\n",
    "from molecule import Molecule, batch_to_dict\n",
    "from hypers import Hypers\n",
    "from pet import PET\n",
    "from utilities import FullLogger\n",
    "from utilities import get_rmse, get_mae, get_relative_rmse, get_loss\n",
    "from analysis import get_structural_batch_size, convert_atomic_throughput"
   ]
  },
  {
   "cell_type": "code",
   "execution_count": 2,
   "id": "159138f1",
   "metadata": {},
   "outputs": [],
   "source": [
    "EPSILON = 1e-10\n",
    "STRUCTURES_PATH = '../datasets/coll/coll_v1.2_AE_test.xyz'\n",
    "DEFAULT_HYPERS_PATH = 'default_hypers.yaml'\n",
    "SP_HYPERS_PATH = 'sp_default_hypers.yaml'\n",
    "NUM_MOLECULES = 4"
   ]
  },
  {
   "cell_type": "code",
   "execution_count": 3,
   "id": "9d953604",
   "metadata": {},
   "outputs": [],
   "source": [
    "hypers = Hypers()\n",
    "hypers.load_from_file(DEFAULT_HYPERS_PATH)\n",
    "\n",
    "hypers_only_length = copy.deepcopy(hypers)\n",
    "hypers_only_length.USE_ONLY_LENGTH = True"
   ]
  },
  {
   "cell_type": "code",
   "execution_count": 4,
   "id": "9eaed3b7",
   "metadata": {},
   "outputs": [
    {
     "name": "stderr",
     "output_type": "stream",
     "text": [
      "100%|████████████████████████████████████████████| 4/4 [00:00<00:00, 833.53it/s]\n",
      "100%|███████████████████████████████████████████| 4/4 [00:00<00:00, 1277.58it/s]\n"
     ]
    }
   ],
   "source": [
    "structures = ase.io.read(STRUCTURES_PATH, index = f':{NUM_MOLECULES}')\n",
    "all_species = get_all_species(structures)\n",
    "molecules = [Molecule(structure, hypers.R_CUT, hypers.USE_ADDITIONAL_SCALAR_ATTRIBUTES, hypers.USE_FORCES) for structure in tqdm(structures)]\n",
    "\n",
    "max_nums = [molecule.get_max_num() for molecule in molecules]\n",
    "max_num = np.max(max_nums)\n",
    "graphs = [molecule.get_graph(max_num, all_species) for molecule in tqdm(molecules)]\n",
    "loader = DataLoader(graphs, batch_size=10, shuffle=False)"
   ]
  },
  {
   "cell_type": "code",
   "execution_count": 5,
   "id": "b9205c89",
   "metadata": {},
   "outputs": [],
   "source": [
    "def get_model(hypers):\n",
    "    add_tokens = []\n",
    "    for _ in range(hypers.N_GNN_LAYERS - 1):\n",
    "        add_tokens.append(hypers.ADD_TOKEN_FIRST)\n",
    "    add_tokens.append(hypers.ADD_TOKEN_SECOND)\n",
    "\n",
    "    model = PET(hypers, hypers.TRANSFORMER_D_MODEL, hypers.TRANSFORMER_N_HEAD,\n",
    "                           hypers.TRANSFORMER_DIM_FEEDFORWARD, hypers.N_TRANS_LAYERS, \n",
    "                           0.0, len(all_species), \n",
    "                           hypers.N_GNN_LAYERS, hypers.HEAD_N_NEURONS, hypers.TRANSFORMERS_CENTRAL_SPECIFIC, hypers.HEADS_CENTRAL_SPECIFIC, \n",
    "                           add_tokens).cuda()\n",
    "\n",
    "    model.augmentation = False\n",
    "    return model\n",
    "\n",
    "model = get_model(hypers)\n",
    "model_only_length = get_model(hypers_only_length)"
   ]
  },
  {
   "cell_type": "code",
   "execution_count": 6,
   "id": "b8672a54",
   "metadata": {},
   "outputs": [],
   "source": [
    "def compute_for_random_rotation(model, is_sp = False):\n",
    "    structures = ase.io.read(STRUCTURES_PATH, index = f':{NUM_MOLECULES}')\n",
    "    \n",
    "    rotation = Rotation.random(1).as_matrix()[0]\n",
    "    for struc in structures:\n",
    "        struc.positions = np.dot(struc.positions, rotation)\n",
    "    \n",
    "    all_species = get_all_species(structures)\n",
    "    molecules = [Molecule(structure, hypers.R_CUT, hypers.USE_ADDITIONAL_SCALAR_ATTRIBUTES, hypers.USE_FORCES) for structure in structures]\n",
    "\n",
    "    max_nums = [molecule.get_max_num() for molecule in molecules]\n",
    "    max_num = np.max(max_nums)\n",
    "    graphs = [molecule.get_graph(max_num, all_species) for molecule in molecules]\n",
    "    loader = DataLoader(graphs, batch_size=1, shuffle=False)\n",
    "    \n",
    "    torch.set_printoptions(precision=10)\n",
    "    result = []\n",
    "    for batch in loader:\n",
    "        batch.cuda()\n",
    "        if is_sp:\n",
    "            _, _, _, predictions_energies, _, _, _ = model(batch)\n",
    "        else:\n",
    "            predictions_energies, _, _, _ = model(batch)\n",
    "        result.append(predictions_energies)\n",
    "    result = torch.cat(result, dim = 0)\n",
    "    print(result)\n",
    "    \n",
    "    "
   ]
  },
  {
   "cell_type": "markdown",
   "id": "b8cc9450",
   "metadata": {},
   "source": [
    "# Normal model is not invariant with respect to rotations:"
   ]
  },
  {
   "cell_type": "code",
   "execution_count": 7,
   "id": "17daebe3",
   "metadata": {},
   "outputs": [
    {
     "name": "stdout",
     "output_type": "stream",
     "text": [
      "tensor([ 4.6532812119,  1.1738374233, 11.0723333359,  3.0509610176],\n",
      "       device='cuda:0', grad_fn=<CatBackward0>)\n",
      "tensor([ 3.8727846146,  1.1035382748, 11.1587944031,  2.5032422543],\n",
      "       device='cuda:0', grad_fn=<CatBackward0>)\n",
      "tensor([ 4.5295562744,  1.2187290192, 12.2790145874,  2.7994041443],\n",
      "       device='cuda:0', grad_fn=<CatBackward0>)\n",
      "tensor([ 3.9224903584,  1.1699337959, 11.3691978455,  2.5340712070],\n",
      "       device='cuda:0', grad_fn=<CatBackward0>)\n",
      "tensor([ 4.4406013489,  0.9452638626, 10.7616453171,  3.1007592678],\n",
      "       device='cuda:0', grad_fn=<CatBackward0>)\n",
      "tensor([ 4.3224363327,  1.1158511639, 10.8621082306,  3.0472834110],\n",
      "       device='cuda:0', grad_fn=<CatBackward0>)\n",
      "tensor([ 3.8266706467,  1.1204146147, 10.6523494720,  2.4459931850],\n",
      "       device='cuda:0', grad_fn=<CatBackward0>)\n",
      "tensor([ 4.0556879044,  1.2029281855, 11.9173603058,  2.6341493130],\n",
      "       device='cuda:0', grad_fn=<CatBackward0>)\n",
      "tensor([ 4.5633668900,  1.1726646423, 11.6072378159,  2.9549016953],\n",
      "       device='cuda:0', grad_fn=<CatBackward0>)\n",
      "tensor([ 4.6231741905,  1.1712256670, 11.5953578949,  3.0349378586],\n",
      "       device='cuda:0', grad_fn=<CatBackward0>)\n"
     ]
    }
   ],
   "source": [
    "        \n",
    "for _ in range(10):\n",
    "    compute_for_random_rotation(model)"
   ]
  },
  {
   "cell_type": "markdown",
   "id": "34354c95",
   "metadata": {},
   "source": [
    "# Only length model is invariant with respect to rotations"
   ]
  },
  {
   "cell_type": "code",
   "execution_count": 8,
   "id": "1e8cdc8d",
   "metadata": {},
   "outputs": [
    {
     "name": "stdout",
     "output_type": "stream",
     "text": [
      "tensor([-19.0117378235,  -7.5118646622, -47.4766616821, -12.1423044205],\n",
      "       device='cuda:0', grad_fn=<CatBackward0>)\n",
      "tensor([-19.0117378235,  -7.5118656158, -47.4766654968, -12.1423053741],\n",
      "       device='cuda:0', grad_fn=<CatBackward0>)\n",
      "tensor([-19.0117397308,  -7.5118656158, -47.4766654968, -12.1423053741],\n",
      "       device='cuda:0', grad_fn=<CatBackward0>)\n",
      "tensor([-19.0117378235,  -7.5118665695, -47.4766654968, -12.1423053741],\n",
      "       device='cuda:0', grad_fn=<CatBackward0>)\n",
      "tensor([-19.0117397308,  -7.5118656158, -47.4766654968, -12.1423053741],\n",
      "       device='cuda:0', grad_fn=<CatBackward0>)\n",
      "tensor([-19.0117397308,  -7.5118656158, -47.4766654968, -12.1423053741],\n",
      "       device='cuda:0', grad_fn=<CatBackward0>)\n",
      "tensor([-19.0117378235,  -7.5118646622, -47.4766616821, -12.1423053741],\n",
      "       device='cuda:0', grad_fn=<CatBackward0>)\n",
      "tensor([-19.0117378235,  -7.5118656158, -47.4766616821, -12.1423053741],\n",
      "       device='cuda:0', grad_fn=<CatBackward0>)\n",
      "tensor([-19.0117397308,  -7.5118656158, -47.4766654968, -12.1423053741],\n",
      "       device='cuda:0', grad_fn=<CatBackward0>)\n",
      "tensor([-19.0117397308,  -7.5118646622, -47.4766693115, -12.1423044205],\n",
      "       device='cuda:0', grad_fn=<CatBackward0>)\n"
     ]
    }
   ],
   "source": [
    "for _ in range(10):\n",
    "    compute_for_random_rotation(model_only_length)"
   ]
  },
  {
   "cell_type": "markdown",
   "id": "57b14d07",
   "metadata": {},
   "source": [
    "# Symmetrization protocol"
   ]
  },
  {
   "cell_type": "code",
   "execution_count": 9,
   "id": "d1828049",
   "metadata": {},
   "outputs": [
    {
     "name": "stderr",
     "output_type": "stream",
     "text": [
      "/home/sergey/final_reproduce/pet_latest/sp_frames_calculator.py:126: ComplexWarning: Casting complex values to real discards the imaginary part\n",
      "  self.lambert_constant = torch.tensor(float(lambertw(np.exp(-1.0))))\n"
     ]
    }
   ],
   "source": [
    "from sp_frames_calculator import SPFramesCalculator\n",
    "from pet_sp import PETSP\n",
    "sp_hypers = Hypers()\n",
    "sp_hypers.load_from_file(SP_HYPERS_PATH)\n",
    "sp_frames_calculator = SPFramesCalculator(sp_hypers)"
   ]
  },
  {
   "cell_type": "markdown",
   "id": "b799b0d3",
   "metadata": {},
   "source": [
    "# symmetrization of normal model"
   ]
  },
  {
   "cell_type": "code",
   "execution_count": 10,
   "id": "7eb41090",
   "metadata": {},
   "outputs": [
    {
     "name": "stdout",
     "output_type": "stream",
     "text": [
      "tensor([ 4.3400225639,  1.0897265673, 11.2385025024,  2.8997604847],\n",
      "       device='cuda:0', grad_fn=<CatBackward0>)\n",
      "tensor([ 4.3400220871,  1.0897264481, 11.2385025024,  2.8997597694],\n",
      "       device='cuda:0', grad_fn=<CatBackward0>)\n",
      "tensor([ 4.3400225639,  1.0897266865, 11.2385025024,  2.8997602463],\n",
      "       device='cuda:0', grad_fn=<CatBackward0>)\n",
      "tensor([ 4.3400220871,  1.0897265673, 11.2385044098,  2.8997609615],\n",
      "       device='cuda:0', grad_fn=<CatBackward0>)\n",
      "tensor([ 4.3400225639,  1.0897266865, 11.2385034561,  2.8997600079],\n",
      "       device='cuda:0', grad_fn=<CatBackward0>)\n",
      "tensor([ 4.3400230408,  1.0897265673, 11.2385025024,  2.8997604847],\n",
      "       device='cuda:0', grad_fn=<CatBackward0>)\n",
      "tensor([ 4.3400225639,  1.0897264481, 11.2385015488,  2.8997607231],\n",
      "       device='cuda:0', grad_fn=<CatBackward0>)\n",
      "tensor([ 4.3400220871,  1.0897264481, 11.2384996414,  2.8997602463],\n",
      "       device='cuda:0', grad_fn=<CatBackward0>)\n",
      "tensor([ 4.3400225639,  1.0897262096, 11.2385072708,  2.8997607231],\n",
      "       device='cuda:0', grad_fn=<CatBackward0>)\n",
      "tensor([ 4.3400225639,  1.0897266865, 11.2385005951,  2.8997602463],\n",
      "       device='cuda:0', grad_fn=<CatBackward0>)\n"
     ]
    }
   ],
   "source": [
    "model_sp = PETSP(model, None,\n",
    "                 100.0, hypers.USE_ENERGIES, hypers.USE_FORCES,\n",
    "                 sp_frames_calculator, 50,\n",
    "                 epsilon = EPSILON).cuda()\n",
    "\n",
    "for _ in range(10):\n",
    "    compute_for_random_rotation(model_sp, is_sp = True)"
   ]
  },
  {
   "cell_type": "markdown",
   "id": "9368a732",
   "metadata": {},
   "source": [
    "# model combined of normal one and only length as auxiliary"
   ]
  },
  {
   "cell_type": "code",
   "execution_count": 11,
   "id": "0cd36c8a",
   "metadata": {},
   "outputs": [
    {
     "name": "stdout",
     "output_type": "stream",
     "text": [
      "tensor([ 4.3400225639,  1.0897265673, 11.2385034561,  2.8997609615],\n",
      "       device='cuda:0', grad_fn=<CatBackward0>)\n",
      "tensor([ 4.3400225639,  1.0897264481, 11.2385025024,  2.8997607231],\n",
      "       device='cuda:0', grad_fn=<CatBackward0>)\n",
      "tensor([ 4.3400225639,  1.0897264481, 11.2385063171,  2.8997604847],\n",
      "       device='cuda:0', grad_fn=<CatBackward0>)\n",
      "tensor([ 4.3400220871,  1.0897266865, 11.2385044098,  2.8997604847],\n",
      "       device='cuda:0', grad_fn=<CatBackward0>)\n",
      "tensor([ 4.3400225639,  1.0897265673, 11.2385015488,  2.8997602463],\n",
      "       device='cuda:0', grad_fn=<CatBackward0>)\n",
      "tensor([ 4.3400230408,  1.0897265673, 11.2385015488,  2.8997604847],\n",
      "       device='cuda:0', grad_fn=<CatBackward0>)\n",
      "tensor([ 4.3400225639,  1.0897263288, 11.2385025024,  2.8997602463],\n",
      "       device='cuda:0', grad_fn=<CatBackward0>)\n",
      "tensor([ 4.3400225639,  1.0897264481, 11.2385005951,  2.8997609615],\n",
      "       device='cuda:0', grad_fn=<CatBackward0>)\n",
      "tensor([ 4.3400225639,  1.0897264481, 11.2385044098,  2.8997604847],\n",
      "       device='cuda:0', grad_fn=<CatBackward0>)\n",
      "tensor([ 4.3400216103,  1.0897265673, 11.2385053635,  2.8997607231],\n",
      "       device='cuda:0', grad_fn=<CatBackward0>)\n"
     ]
    }
   ],
   "source": [
    "model_sp = PETSP(model, model_only_length,\n",
    "                 100.0, hypers.USE_ENERGIES, hypers.USE_FORCES,\n",
    "                 sp_frames_calculator, 50,\n",
    "                 epsilon = EPSILON).cuda()\n",
    "\n",
    "for _ in range(10):\n",
    "    compute_for_random_rotation(model_sp, is_sp = True)"
   ]
  },
  {
   "cell_type": "markdown",
   "id": "6b8e78f0",
   "metadata": {},
   "source": [
    "# symmetrization protocol with additional augmentations"
   ]
  },
  {
   "cell_type": "code",
   "execution_count": 12,
   "id": "10e662cb",
   "metadata": {},
   "outputs": [
    {
     "name": "stdout",
     "output_type": "stream",
     "text": [
      "tensor([ 4.3347034454,  1.1222932339, 11.3358707428,  2.8711168766],\n",
      "       device='cuda:0', grad_fn=<CatBackward0>)\n",
      "tensor([ 4.3347039223,  1.1222932339, 11.3358716965,  2.8711166382],\n",
      "       device='cuda:0', grad_fn=<CatBackward0>)\n",
      "tensor([ 4.3347039223,  1.1222934723, 11.3358726501,  2.8711175919],\n",
      "       device='cuda:0', grad_fn=<CatBackward0>)\n",
      "tensor([ 4.3347039223,  1.1222929955, 11.3358707428,  2.8711168766],\n",
      "       device='cuda:0', grad_fn=<CatBackward0>)\n",
      "tensor([ 4.3347034454,  1.1222934723, 11.3358707428,  2.8711166382],\n",
      "       device='cuda:0', grad_fn=<CatBackward0>)\n",
      "tensor([ 4.3347039223,  1.1222935915, 11.3358736038,  2.8711175919],\n",
      "       device='cuda:0', grad_fn=<CatBackward0>)\n",
      "tensor([ 4.3347029686,  1.1222933531, 11.3358726501,  2.8711168766],\n",
      "       device='cuda:0', grad_fn=<CatBackward0>)\n",
      "tensor([ 4.3347034454,  1.1222929955, 11.3358726501,  2.8711166382],\n",
      "       device='cuda:0', grad_fn=<CatBackward0>)\n",
      "tensor([ 4.3347029686,  1.1222933531, 11.3358726501,  2.8711171150],\n",
      "       device='cuda:0', grad_fn=<CatBackward0>)\n",
      "tensor([ 4.3347034454,  1.1222931147, 11.3358726501,  2.8711168766],\n",
      "       device='cuda:0', grad_fn=<CatBackward0>)\n"
     ]
    }
   ],
   "source": [
    "additional_rotations = [torch.FloatTensor(el) for el in Rotation.random(5).as_matrix()]\n",
    "\n",
    "model_sp = PETSP(model, None,\n",
    "                 100.0, hypers.USE_ENERGIES, hypers.USE_FORCES,\n",
    "                 sp_frames_calculator, 50,\n",
    "                 additional_rotations = additional_rotations, \n",
    "                 epsilon = EPSILON).cuda()\n",
    "\n",
    "for _ in range(10):\n",
    "    compute_for_random_rotation(model_sp, is_sp = True)"
   ]
  },
  {
   "cell_type": "code",
   "execution_count": 13,
   "id": "94c94d6f",
   "metadata": {},
   "outputs": [
    {
     "name": "stdout",
     "output_type": "stream",
     "text": [
      "[tensor([[ 0.3888399899,  0.8029066920, -0.4518232942],\n",
      "        [ 0.7725714445, -0.5513450503, -0.3148841560],\n",
      "        [-0.5019331574, -0.2266262174, -0.8346877694]]), tensor([[ 0.3473148942, -0.3901394606,  0.8527388573],\n",
      "        [ 0.7879478335,  0.6144540310, -0.0398049764],\n",
      "        [-0.5084393620,  0.6857386231,  0.5208185911]]), tensor([[-0.1875014454, -0.2049000263,  0.9606556296],\n",
      "        [ 0.6737301350, -0.7385192513, -0.0260210168],\n",
      "        [ 0.7147943377,  0.6423436403,  0.2765207291]]), tensor([[ 0.5231038332, -0.8319866657, -0.1848256886],\n",
      "        [-0.4213648140, -0.4409741461,  0.7924603820],\n",
      "        [-0.7408198118, -0.3366600573, -0.5812451839]]), tensor([[ 0.8584657311,  0.0436591953,  0.5110092163],\n",
      "        [-0.0621182807,  0.9978860617,  0.0190985128],\n",
      "        [-0.5090951324, -0.0481384322,  0.8593630195]])]\n"
     ]
    }
   ],
   "source": [
    "print(additional_rotations)"
   ]
  },
  {
   "cell_type": "code",
   "execution_count": null,
   "id": "b3aae3c4",
   "metadata": {},
   "outputs": [],
   "source": []
  }
 ],
 "metadata": {
  "kernelspec": {
   "display_name": "Python 3 (ipykernel)",
   "language": "python",
   "name": "python3"
  },
  "language_info": {
   "codemirror_mode": {
    "name": "ipython",
    "version": 3
   },
   "file_extension": ".py",
   "mimetype": "text/x-python",
   "name": "python",
   "nbconvert_exporter": "python",
   "pygments_lexer": "ipython3",
   "version": "3.9.13"
  }
 },
 "nbformat": 4,
 "nbformat_minor": 5
}
